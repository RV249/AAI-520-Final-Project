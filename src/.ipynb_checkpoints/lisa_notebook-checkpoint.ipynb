{
 "cells": [
  {
   "cell_type": "code",
   "execution_count": 1,
   "id": "c1e289f3-94b1-4c4d-a9ff-9c96221f9580",
   "metadata": {},
   "outputs": [
    {
     "name": "stderr",
     "output_type": "stream",
     "text": [
      "2023-10-08 13:05:16.945345: I tensorflow/core/platform/cpu_feature_guard.cc:193] This TensorFlow binary is optimized with oneAPI Deep Neural Network Library (oneDNN) to use the following CPU instructions in performance-critical operations:  SSE4.1 SSE4.2 AVX AVX2 FMA\n",
      "To enable them in other operations, rebuild TensorFlow with the appropriate compiler flags.\n"
     ]
    }
   ],
   "source": [
    "import pandas as pd\n",
    "import numpy as np\n",
    "import nltk\n",
    "import os\n",
    "import os.path\n",
    "from sklearn.model_selection import train_test_split\n",
    "from sklearn.metrics import accuracy_score, precision_score, recall_score, f1_score, confusion_matrix, roc_auc_score\n",
    "\n",
    "import tensorflow as tf\n",
    "from tensorflow import keras\n",
    "from tensorflow.keras.models import Sequential\n",
    "from tensorflow.keras.layers import Dense, Embedding, GlobalAveragePooling1D\n",
    "from tensorflow.keras.preprocessing.text import Tokenizer\n",
    "from tensorflow.keras.preprocessing.sequence import pad_sequences\n",
    "from sklearn.preprocessing import LabelEncoder"
   ]
  },
  {
   "cell_type": "markdown",
   "id": "63c98684-0b54-4455-bdc1-7a1d6be5496b",
   "metadata": {},
   "source": [
    "# Data Loading"
   ]
  },
  {
   "cell_type": "code",
   "execution_count": 2,
   "id": "5de5df31-8e71-4bd7-9f07-48dc93cc3904",
   "metadata": {},
   "outputs": [],
   "source": [
    "titles = pd.read_table('../data/movie_titles_metadata.txt', delimiter=r\" \\+\\+\\+\\$\\+\\+\\+ \", engine='python', encoding='latin1', names=['movie_id','movie_title','movie_year','imdb_rating','num_ratings','genre'])\n",
    "\n",
    "characters = pd.read_table('../data/movie_characters_metadata.txt', delimiter=r\" \\+\\+\\+\\$\\+\\+\\+ \", engine='python', encoding='latin1', names=['character_id','character_name','movie_id','movie_title','gender','credits_position'])\n",
    "\n",
    "lines = pd.read_table('../data/movie_lines.txt', delimiter=r\" \\+\\+\\+\\$\\+\\+\\+ \", engine='python', encoding='latin1', names=['line_id','character_id','movie_id','character_name','line'])\n",
    "\n",
    "convos = pd.read_table('../data/movie_conversations.txt', delimiter=r\" \\+\\+\\+\\$\\+\\+\\+ \", engine='python', names=['character_id_first','character_id_second','movie_id','line_order'])"
   ]
  },
  {
   "cell_type": "code",
   "execution_count": 3,
   "id": "dc310078-bd31-4c27-a278-f87c7a3fe75f",
   "metadata": {
    "tags": []
   },
   "outputs": [
    {
     "data": {
      "text/html": [
       "<div>\n",
       "<style scoped>\n",
       "    .dataframe tbody tr th:only-of-type {\n",
       "        vertical-align: middle;\n",
       "    }\n",
       "\n",
       "    .dataframe tbody tr th {\n",
       "        vertical-align: top;\n",
       "    }\n",
       "\n",
       "    .dataframe thead th {\n",
       "        text-align: right;\n",
       "    }\n",
       "</style>\n",
       "<table border=\"1\" class=\"dataframe\">\n",
       "  <thead>\n",
       "    <tr style=\"text-align: right;\">\n",
       "      <th></th>\n",
       "      <th>movie_id</th>\n",
       "      <th>movie_title</th>\n",
       "      <th>movie_year</th>\n",
       "      <th>imdb_rating</th>\n",
       "      <th>num_ratings</th>\n",
       "      <th>genre</th>\n",
       "    </tr>\n",
       "  </thead>\n",
       "  <tbody>\n",
       "    <tr>\n",
       "      <th>0</th>\n",
       "      <td>m0</td>\n",
       "      <td>10 things i hate about you</td>\n",
       "      <td>1999</td>\n",
       "      <td>6.9</td>\n",
       "      <td>62847</td>\n",
       "      <td>['comedy', 'romance']</td>\n",
       "    </tr>\n",
       "    <tr>\n",
       "      <th>1</th>\n",
       "      <td>m1</td>\n",
       "      <td>1492: conquest of paradise</td>\n",
       "      <td>1992</td>\n",
       "      <td>6.2</td>\n",
       "      <td>10421</td>\n",
       "      <td>['adventure', 'biography', 'drama', 'history']</td>\n",
       "    </tr>\n",
       "    <tr>\n",
       "      <th>2</th>\n",
       "      <td>m2</td>\n",
       "      <td>15 minutes</td>\n",
       "      <td>2001</td>\n",
       "      <td>6.1</td>\n",
       "      <td>25854</td>\n",
       "      <td>['action', 'crime', 'drama', 'thriller']</td>\n",
       "    </tr>\n",
       "    <tr>\n",
       "      <th>3</th>\n",
       "      <td>m3</td>\n",
       "      <td>2001: a space odyssey</td>\n",
       "      <td>1968</td>\n",
       "      <td>8.4</td>\n",
       "      <td>163227</td>\n",
       "      <td>['adventure', 'mystery', 'sci-fi']</td>\n",
       "    </tr>\n",
       "    <tr>\n",
       "      <th>4</th>\n",
       "      <td>m4</td>\n",
       "      <td>48 hrs.</td>\n",
       "      <td>1982</td>\n",
       "      <td>6.9</td>\n",
       "      <td>22289</td>\n",
       "      <td>['action', 'comedy', 'crime', 'drama', 'thrill...</td>\n",
       "    </tr>\n",
       "  </tbody>\n",
       "</table>\n",
       "</div>"
      ],
      "text/plain": [
       "  movie_id                 movie_title movie_year  imdb_rating  num_ratings  \\\n",
       "0       m0  10 things i hate about you       1999          6.9        62847   \n",
       "1       m1  1492: conquest of paradise       1992          6.2        10421   \n",
       "2       m2                  15 minutes       2001          6.1        25854   \n",
       "3       m3       2001: a space odyssey       1968          8.4       163227   \n",
       "4       m4                     48 hrs.       1982          6.9        22289   \n",
       "\n",
       "                                               genre  \n",
       "0                              ['comedy', 'romance']  \n",
       "1     ['adventure', 'biography', 'drama', 'history']  \n",
       "2           ['action', 'crime', 'drama', 'thriller']  \n",
       "3                 ['adventure', 'mystery', 'sci-fi']  \n",
       "4  ['action', 'comedy', 'crime', 'drama', 'thrill...  "
      ]
     },
     "execution_count": 3,
     "metadata": {},
     "output_type": "execute_result"
    }
   ],
   "source": [
    "titles.head()"
   ]
  },
  {
   "cell_type": "code",
   "execution_count": 4,
   "id": "f23aa0b1-fe6f-47cb-951f-c2045ed4e32d",
   "metadata": {
    "tags": []
   },
   "outputs": [
    {
     "data": {
      "text/html": [
       "<div>\n",
       "<style scoped>\n",
       "    .dataframe tbody tr th:only-of-type {\n",
       "        vertical-align: middle;\n",
       "    }\n",
       "\n",
       "    .dataframe tbody tr th {\n",
       "        vertical-align: top;\n",
       "    }\n",
       "\n",
       "    .dataframe thead th {\n",
       "        text-align: right;\n",
       "    }\n",
       "</style>\n",
       "<table border=\"1\" class=\"dataframe\">\n",
       "  <thead>\n",
       "    <tr style=\"text-align: right;\">\n",
       "      <th></th>\n",
       "      <th>character_id</th>\n",
       "      <th>character_name</th>\n",
       "      <th>movie_id</th>\n",
       "      <th>movie_title</th>\n",
       "      <th>gender</th>\n",
       "      <th>credits_position</th>\n",
       "    </tr>\n",
       "  </thead>\n",
       "  <tbody>\n",
       "    <tr>\n",
       "      <th>0</th>\n",
       "      <td>u0</td>\n",
       "      <td>BIANCA</td>\n",
       "      <td>m0</td>\n",
       "      <td>10 things i hate about you</td>\n",
       "      <td>f</td>\n",
       "      <td>4</td>\n",
       "    </tr>\n",
       "    <tr>\n",
       "      <th>1</th>\n",
       "      <td>u1</td>\n",
       "      <td>BRUCE</td>\n",
       "      <td>m0</td>\n",
       "      <td>10 things i hate about you</td>\n",
       "      <td>?</td>\n",
       "      <td>?</td>\n",
       "    </tr>\n",
       "    <tr>\n",
       "      <th>2</th>\n",
       "      <td>u2</td>\n",
       "      <td>CAMERON</td>\n",
       "      <td>m0</td>\n",
       "      <td>10 things i hate about you</td>\n",
       "      <td>m</td>\n",
       "      <td>3</td>\n",
       "    </tr>\n",
       "    <tr>\n",
       "      <th>3</th>\n",
       "      <td>u3</td>\n",
       "      <td>CHASTITY</td>\n",
       "      <td>m0</td>\n",
       "      <td>10 things i hate about you</td>\n",
       "      <td>?</td>\n",
       "      <td>?</td>\n",
       "    </tr>\n",
       "    <tr>\n",
       "      <th>4</th>\n",
       "      <td>u4</td>\n",
       "      <td>JOEY</td>\n",
       "      <td>m0</td>\n",
       "      <td>10 things i hate about you</td>\n",
       "      <td>m</td>\n",
       "      <td>6</td>\n",
       "    </tr>\n",
       "  </tbody>\n",
       "</table>\n",
       "</div>"
      ],
      "text/plain": [
       "  character_id character_name movie_id                 movie_title gender  \\\n",
       "0           u0         BIANCA       m0  10 things i hate about you      f   \n",
       "1           u1          BRUCE       m0  10 things i hate about you      ?   \n",
       "2           u2        CAMERON       m0  10 things i hate about you      m   \n",
       "3           u3       CHASTITY       m0  10 things i hate about you      ?   \n",
       "4           u4           JOEY       m0  10 things i hate about you      m   \n",
       "\n",
       "  credits_position  \n",
       "0                4  \n",
       "1                ?  \n",
       "2                3  \n",
       "3                ?  \n",
       "4                6  "
      ]
     },
     "execution_count": 4,
     "metadata": {},
     "output_type": "execute_result"
    }
   ],
   "source": [
    "characters.head()"
   ]
  },
  {
   "cell_type": "code",
   "execution_count": 5,
   "id": "a0355860-75fb-4f2d-8ee7-bc859c796248",
   "metadata": {
    "tags": []
   },
   "outputs": [
    {
     "data": {
      "text/html": [
       "<div>\n",
       "<style scoped>\n",
       "    .dataframe tbody tr th:only-of-type {\n",
       "        vertical-align: middle;\n",
       "    }\n",
       "\n",
       "    .dataframe tbody tr th {\n",
       "        vertical-align: top;\n",
       "    }\n",
       "\n",
       "    .dataframe thead th {\n",
       "        text-align: right;\n",
       "    }\n",
       "</style>\n",
       "<table border=\"1\" class=\"dataframe\">\n",
       "  <thead>\n",
       "    <tr style=\"text-align: right;\">\n",
       "      <th></th>\n",
       "      <th>line_id</th>\n",
       "      <th>character_id</th>\n",
       "      <th>movie_id</th>\n",
       "      <th>character_name</th>\n",
       "      <th>line</th>\n",
       "    </tr>\n",
       "  </thead>\n",
       "  <tbody>\n",
       "    <tr>\n",
       "      <th>0</th>\n",
       "      <td>L1045</td>\n",
       "      <td>u0</td>\n",
       "      <td>m0</td>\n",
       "      <td>BIANCA</td>\n",
       "      <td>They do not!</td>\n",
       "    </tr>\n",
       "    <tr>\n",
       "      <th>1</th>\n",
       "      <td>L1044</td>\n",
       "      <td>u2</td>\n",
       "      <td>m0</td>\n",
       "      <td>CAMERON</td>\n",
       "      <td>They do to!</td>\n",
       "    </tr>\n",
       "    <tr>\n",
       "      <th>2</th>\n",
       "      <td>L985</td>\n",
       "      <td>u0</td>\n",
       "      <td>m0</td>\n",
       "      <td>BIANCA</td>\n",
       "      <td>I hope so.</td>\n",
       "    </tr>\n",
       "    <tr>\n",
       "      <th>3</th>\n",
       "      <td>L984</td>\n",
       "      <td>u2</td>\n",
       "      <td>m0</td>\n",
       "      <td>CAMERON</td>\n",
       "      <td>She okay?</td>\n",
       "    </tr>\n",
       "    <tr>\n",
       "      <th>4</th>\n",
       "      <td>L925</td>\n",
       "      <td>u0</td>\n",
       "      <td>m0</td>\n",
       "      <td>BIANCA</td>\n",
       "      <td>Let's go.</td>\n",
       "    </tr>\n",
       "  </tbody>\n",
       "</table>\n",
       "</div>"
      ],
      "text/plain": [
       "  line_id character_id movie_id character_name          line\n",
       "0   L1045           u0       m0         BIANCA  They do not!\n",
       "1   L1044           u2       m0        CAMERON   They do to!\n",
       "2    L985           u0       m0         BIANCA    I hope so.\n",
       "3    L984           u2       m0        CAMERON     She okay?\n",
       "4    L925           u0       m0         BIANCA     Let's go."
      ]
     },
     "execution_count": 5,
     "metadata": {},
     "output_type": "execute_result"
    }
   ],
   "source": [
    "lines.head()"
   ]
  },
  {
   "cell_type": "code",
   "execution_count": 6,
   "id": "e768ed6d-f6fb-4e34-a23a-e005c54298f0",
   "metadata": {
    "tags": []
   },
   "outputs": [
    {
     "data": {
      "text/html": [
       "<div>\n",
       "<style scoped>\n",
       "    .dataframe tbody tr th:only-of-type {\n",
       "        vertical-align: middle;\n",
       "    }\n",
       "\n",
       "    .dataframe tbody tr th {\n",
       "        vertical-align: top;\n",
       "    }\n",
       "\n",
       "    .dataframe thead th {\n",
       "        text-align: right;\n",
       "    }\n",
       "</style>\n",
       "<table border=\"1\" class=\"dataframe\">\n",
       "  <thead>\n",
       "    <tr style=\"text-align: right;\">\n",
       "      <th></th>\n",
       "      <th>character_id_first</th>\n",
       "      <th>character_id_second</th>\n",
       "      <th>movie_id</th>\n",
       "      <th>line_order</th>\n",
       "    </tr>\n",
       "  </thead>\n",
       "  <tbody>\n",
       "    <tr>\n",
       "      <th>0</th>\n",
       "      <td>u0</td>\n",
       "      <td>u2</td>\n",
       "      <td>m0</td>\n",
       "      <td>['L194', 'L195', 'L196', 'L197']</td>\n",
       "    </tr>\n",
       "    <tr>\n",
       "      <th>1</th>\n",
       "      <td>u0</td>\n",
       "      <td>u2</td>\n",
       "      <td>m0</td>\n",
       "      <td>['L198', 'L199']</td>\n",
       "    </tr>\n",
       "    <tr>\n",
       "      <th>2</th>\n",
       "      <td>u0</td>\n",
       "      <td>u2</td>\n",
       "      <td>m0</td>\n",
       "      <td>['L200', 'L201', 'L202', 'L203']</td>\n",
       "    </tr>\n",
       "    <tr>\n",
       "      <th>3</th>\n",
       "      <td>u0</td>\n",
       "      <td>u2</td>\n",
       "      <td>m0</td>\n",
       "      <td>['L204', 'L205', 'L206']</td>\n",
       "    </tr>\n",
       "    <tr>\n",
       "      <th>4</th>\n",
       "      <td>u0</td>\n",
       "      <td>u2</td>\n",
       "      <td>m0</td>\n",
       "      <td>['L207', 'L208']</td>\n",
       "    </tr>\n",
       "  </tbody>\n",
       "</table>\n",
       "</div>"
      ],
      "text/plain": [
       "  character_id_first character_id_second movie_id  \\\n",
       "0                 u0                  u2       m0   \n",
       "1                 u0                  u2       m0   \n",
       "2                 u0                  u2       m0   \n",
       "3                 u0                  u2       m0   \n",
       "4                 u0                  u2       m0   \n",
       "\n",
       "                         line_order  \n",
       "0  ['L194', 'L195', 'L196', 'L197']  \n",
       "1                  ['L198', 'L199']  \n",
       "2  ['L200', 'L201', 'L202', 'L203']  \n",
       "3          ['L204', 'L205', 'L206']  \n",
       "4                  ['L207', 'L208']  "
      ]
     },
     "execution_count": 6,
     "metadata": {},
     "output_type": "execute_result"
    }
   ],
   "source": [
    "convos.head()"
   ]
  },
  {
   "cell_type": "markdown",
   "id": "7f0f7f76-16f5-4266-95c5-08b23d3e638d",
   "metadata": {},
   "source": [
    "# Pre-processing"
   ]
  },
  {
   "cell_type": "code",
   "execution_count": 7,
   "id": "f76277e7-4ffa-4bfe-b01d-3729f0262462",
   "metadata": {
    "tags": []
   },
   "outputs": [],
   "source": [
    "# Gets the actual line from the line ID\n",
    "def get_line(line_id):\n",
    "    return lines['line'].loc[lines['line_id'] == line_id].to_numpy()[0]"
   ]
  },
  {
   "cell_type": "code",
   "execution_count": 8,
   "id": "df7a4102-a587-42b0-a02d-85b2132ac58f",
   "metadata": {},
   "outputs": [],
   "source": [
    "# Convert line order to array of actual lines\n",
    "def get_line_array(line_order):\n",
    "    \n",
    "    # Get first line order\n",
    "    text = convos['line_order'].loc[0]\n",
    "    \n",
    "    # Convert line order to array\n",
    "    text = text.replace(\"['\", \"\").replace(\"']\", \"\").split(\"', '\")\n",
    "    \n",
    "    result = map(get_line, text) \n",
    "    return list(result)"
   ]
  },
  {
   "cell_type": "markdown",
   "id": "0325b349-4f41-4cd8-9fc8-2101ab401504",
   "metadata": {},
   "source": [
    "## Sample conversion from conversation to lines"
   ]
  },
  {
   "cell_type": "code",
   "execution_count": 15,
   "id": "941f84bc-427c-4be0-9cfd-3d86aaa458c7",
   "metadata": {
    "tags": []
   },
   "outputs": [
    {
     "name": "stdout",
     "output_type": "stream",
     "text": [
      "['Can we make this quick?  Roxanne Korrine and Andrew Barrett are having an incredibly horrendous public break- up on the quad.  Again.', \"Well, I thought we'd start with pronunciation, if that's okay with you.\", 'Not the hacking and gagging and spitting part.  Please.', \"Okay... then how 'bout we try out some French cuisine.  Saturday?  Night?\"]\n",
      "4\n"
     ]
    }
   ],
   "source": [
    "# Replace each line ID with the actual line\n",
    "temp = get_line_array(convos['line_order'].iloc[0])\n",
    "print(temp)\n",
    "print(len(temp))"
   ]
  },
  {
   "cell_type": "markdown",
   "id": "9662a3aa-cf94-466b-93aa-ac83e8deccdc",
   "metadata": {
    "tags": []
   },
   "source": [
    "## Convert all conversations to lines"
   ]
  },
  {
   "cell_type": "code",
   "execution_count": null,
   "id": "3cbb4872-1373-4ae0-aa26-a4ee56fb3f82",
   "metadata": {},
   "outputs": [],
   "source": []
  },
  {
   "cell_type": "code",
   "execution_count": 12,
   "id": "bb93b110-3e38-4fcb-91d2-ed547762aeba",
   "metadata": {},
   "outputs": [
    {
     "data": {
      "text/plain": [
       "0                    ['L194', 'L195', 'L196', 'L197']\n",
       "1                                    ['L198', 'L199']\n",
       "2                    ['L200', 'L201', 'L202', 'L203']\n",
       "3                            ['L204', 'L205', 'L206']\n",
       "4                                    ['L207', 'L208']\n",
       "                             ...                     \n",
       "83092    ['L666324', 'L666325', 'L666326', 'L666327']\n",
       "83093                          ['L666575', 'L666576']\n",
       "83094                          ['L666256', 'L666257']\n",
       "83095    ['L666369', 'L666370', 'L666371', 'L666372']\n",
       "83096               ['L666520', 'L666521', 'L666522']\n",
       "Name: line_order, Length: 83097, dtype: object"
      ]
     },
     "execution_count": 12,
     "metadata": {},
     "output_type": "execute_result"
    }
   ],
   "source": [
    "all_line_orders = convos['line_order']\n",
    "all_line_orders"
   ]
  },
  {
   "cell_type": "markdown",
   "id": "5423fb2e-60a0-4723-85ce-0bd66b40dbdc",
   "metadata": {},
   "source": [
    "# Neural Network"
   ]
  },
  {
   "cell_type": "code",
   "execution_count": 13,
   "id": "d4617b86-3a1e-4f84-b9d6-7195e718eed0",
   "metadata": {},
   "outputs": [
    {
     "name": "stderr",
     "output_type": "stream",
     "text": [
      "2023-10-08 13:05:23.919021: I tensorflow/core/platform/cpu_feature_guard.cc:193] This TensorFlow binary is optimized with oneAPI Deep Neural Network Library (oneDNN) to use the following CPU instructions in performance-critical operations:  SSE4.1 SSE4.2 AVX AVX2 FMA\n",
      "To enable them in other operations, rebuild TensorFlow with the appropriate compiler flags.\n"
     ]
    }
   ],
   "source": [
    "model = Sequential()"
   ]
  },
  {
   "cell_type": "code",
   "execution_count": null,
   "id": "5b9001bd-5a78-4fe6-9d4a-dd0a6add9079",
   "metadata": {},
   "outputs": [],
   "source": []
  }
 ],
 "metadata": {
  "kernelspec": {
   "display_name": "Python 3 (ipykernel)",
   "language": "python",
   "name": "python3"
  },
  "language_info": {
   "codemirror_mode": {
    "name": "ipython",
    "version": 3
   },
   "file_extension": ".py",
   "mimetype": "text/x-python",
   "name": "python",
   "nbconvert_exporter": "python",
   "pygments_lexer": "ipython3",
   "version": "3.10.12"
  }
 },
 "nbformat": 4,
 "nbformat_minor": 5
}
